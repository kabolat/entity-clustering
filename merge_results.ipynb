{
 "cells": [
  {
   "cell_type": "code",
   "execution_count": 1,
   "id": "7d41ec78",
   "metadata": {},
   "outputs": [],
   "source": [
    "import os, sys\n",
    "import json, pickle\n",
    "import numpy as np\n",
    "import pandas as pd"
   ]
  },
  {
   "cell_type": "code",
   "execution_count": 20,
   "id": "480a3f9a",
   "metadata": {},
   "outputs": [],
   "source": [
    "results_dir = 'results/'\n",
    "results_file_name1 = 'results_loo.csv'\n",
    "results_file_name2 = 'results_loo_.csv'\n",
    "results_path1 = os.path.join(results_dir, results_file_name1)\n",
    "results_path2 = os.path.join(results_dir, results_file_name2)"
   ]
  },
  {
   "cell_type": "code",
   "execution_count": 21,
   "id": "4a15163e",
   "metadata": {},
   "outputs": [],
   "source": [
    "df_results1 = pd.read_csv(results_path1, low_memory=False)\n",
    "df_results2 = pd.read_csv(results_path2, low_memory=False)"
   ]
  },
  {
   "cell_type": "code",
   "execution_count": 23,
   "id": "ab82c894",
   "metadata": {},
   "outputs": [],
   "source": [
    "df_results_merged = pd.concat([df_results1, df_results2], axis=0, ignore_index=True)"
   ]
  },
  {
   "cell_type": "code",
   "execution_count": 24,
   "id": "e2783744",
   "metadata": {},
   "outputs": [],
   "source": [
    "df_results_merged = df_results_merged[df_results_merged['Value'] > 0]"
   ]
  },
  {
   "cell_type": "code",
   "execution_count": 25,
   "id": "a2e142f3",
   "metadata": {},
   "outputs": [],
   "source": [
    "df_results_merged.to_csv(results_dir + 'results_loo_merged.csv', index=False)"
   ]
  }
 ],
 "metadata": {
  "kernelspec": {
   "display_name": "torchenv",
   "language": "python",
   "name": "python3"
  },
  "language_info": {
   "codemirror_mode": {
    "name": "ipython",
    "version": 3
   },
   "file_extension": ".py",
   "mimetype": "text/x-python",
   "name": "python",
   "nbconvert_exporter": "python",
   "pygments_lexer": "ipython3",
   "version": "3.9.15"
  }
 },
 "nbformat": 4,
 "nbformat_minor": 5
}
